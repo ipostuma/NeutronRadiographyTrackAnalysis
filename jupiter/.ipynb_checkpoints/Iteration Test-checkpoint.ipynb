{
 "cells": [
  {
   "cell_type": "markdown",
   "metadata": {},
   "source": [
    "# Iteration test for an NX x NY mosaic\n",
    "\n",
    "I have NX x NY pictures, taken with a scanning pattern that goes from left to wright it moves down by and then goes right to left and so forth. So if the number represent the scanning time I have to reconstruct the image as:\n",
    "\n",
    "```\n",
    " 1  2  3  4  5  6  7  8\n",
    "16 15 14 13 12 11 10  9\n",
    "```"
   ]
  },
  {
   "cell_type": "code",
   "execution_count": 2,
   "metadata": {},
   "outputs": [
    {
     "name": "stdout",
     "output_type": "stream",
     "text": [
      "test XYF00 ZF0.jpg \t(00,00)\n",
      "test XYF01 ZF0.jpg \t(1200,00)\n",
      "test XYF02 ZF0.jpg \t(2400,00)\n",
      "test XYF03 ZF0.jpg \t(3600,00)\n",
      "test XYF04 ZF0.jpg \t(4800,00)\n",
      "test XYF05 ZF0.jpg \t(6000,00)\n",
      "test XYF06 ZF0.jpg \t(7200,00)\n",
      "test XYF07 ZF0.jpg \t(8400,00)\n",
      "\n",
      "test XYF08 ZF0.jpg \t(8400,900)\n",
      "test XYF09 ZF0.jpg \t(7200,900)\n",
      "test XYF10 ZF0.jpg \t(6000,900)\n",
      "test XYF11 ZF0.jpg \t(4800,900)\n",
      "test XYF12 ZF0.jpg \t(3600,900)\n",
      "test XYF13 ZF0.jpg \t(2400,900)\n",
      "test XYF14 ZF0.jpg \t(1200,900)\n",
      "test XYF15 ZF0.jpg \t(00,900)\n",
      "\n",
      "test XYF16 ZF0.jpg \t(00,1800)\n",
      "test XYF17 ZF0.jpg \t(1200,1800)\n",
      "test XYF18 ZF0.jpg \t(2400,1800)\n",
      "test XYF19 ZF0.jpg \t(3600,1800)\n",
      "test XYF20 ZF0.jpg \t(4800,1800)\n",
      "test XYF21 ZF0.jpg \t(6000,1800)\n",
      "test XYF22 ZF0.jpg \t(7200,1800)\n",
      "test XYF23 ZF0.jpg \t(8400,1800)\n",
      "\n",
      "test XYF24 ZF0.jpg \t(8400,2700)\n",
      "test XYF25 ZF0.jpg \t(7200,2700)\n",
      "test XYF26 ZF0.jpg \t(6000,2700)\n",
      "test XYF27 ZF0.jpg \t(4800,2700)\n",
      "test XYF28 ZF0.jpg \t(3600,2700)\n",
      "test XYF29 ZF0.jpg \t(2400,2700)\n",
      "test XYF30 ZF0.jpg \t(1200,2700)\n",
      "test XYF31 ZF0.jpg \t(00,2700)\n",
      "\n",
      "test XYF32 ZF0.jpg \t(00,3600)\n",
      "test XYF33 ZF0.jpg \t(1200,3600)\n",
      "test XYF34 ZF0.jpg \t(2400,3600)\n",
      "test XYF35 ZF0.jpg \t(3600,3600)\n",
      "test XYF36 ZF0.jpg \t(4800,3600)\n",
      "test XYF37 ZF0.jpg \t(6000,3600)\n",
      "test XYF38 ZF0.jpg \t(7200,3600)\n",
      "test XYF39 ZF0.jpg \t(8400,3600)\n"
     ]
    }
   ],
   "source": [
    "MyFilePrefix=\"test\"\n",
    "Maxx=8\n",
    "Maxy=5\n",
    "width=1200\n",
    "height=3*1200/4\n",
    "x = 0 # x coordinate\n",
    "y = 0 # y coordinate\n",
    "u = 1 # mu direction\n",
    "for i in range(Maxx*Maxy):\n",
    "    if(i%Maxx==0 and i!=0):\n",
    "        y+=1\n",
    "        u*=-1\n",
    "        print \"\"\n",
    "    elif(i==0):\n",
    "        x=0\n",
    "        y=0\n",
    "    else:\n",
    "        x+=u\n",
    "    name=\"%s XYF%02i ZF0.jpg\"%(MyFilePrefix,i)\n",
    "    print name,\"\\t\",\n",
    "    print \"(%02i,%02i)\"%(x*width,y*height)"
   ]
  },
  {
   "cell_type": "code",
   "execution_count": null,
   "metadata": {
    "collapsed": true
   },
   "outputs": [],
   "source": []
  }
 ],
 "metadata": {
  "kernelspec": {
   "display_name": "Python 2",
   "language": "python",
   "name": "python2"
  },
  "language_info": {
   "codemirror_mode": {
    "name": "ipython",
    "version": 2
   },
   "file_extension": ".py",
   "mimetype": "text/x-python",
   "name": "python",
   "nbconvert_exporter": "python",
   "pygments_lexer": "ipython2",
   "version": "2.7.6"
  }
 },
 "nbformat": 4,
 "nbformat_minor": 2
}
